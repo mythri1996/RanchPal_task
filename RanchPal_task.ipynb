{
  "nbformat": 4,
  "nbformat_minor": 0,
  "metadata": {
    "colab": {
      "name": "RanchPal_task.ipynb",
      "provenance": [],
      "collapsed_sections": [],
      "mount_file_id": "1GzcM7kydw5wQLYmy9Glb3KGOzt_yWVS8",
      "authorship_tag": "ABX9TyNgY9O8rtP4RLyHCh4p/kyS",
      "include_colab_link": true
    },
    "kernelspec": {
      "name": "python3",
      "display_name": "Python 3"
    },
    "language_info": {
      "name": "python"
    },
    "accelerator": "GPU"
  },
  "cells": [
    {
      "cell_type": "markdown",
      "metadata": {
        "id": "view-in-github",
        "colab_type": "text"
      },
      "source": [
        "<a href=\"https://colab.research.google.com/github/mythri1996/RanchPal_task/blob/main/RanchPal_task.ipynb\" target=\"_parent\"><img src=\"https://colab.research.google.com/assets/colab-badge.svg\" alt=\"Open In Colab\"/></a>"
      ]
    },
    {
      "cell_type": "code",
      "metadata": {
        "colab": {
          "base_uri": "https://localhost:8080/"
        },
        "id": "kiPheGrH0A5N",
        "outputId": "f182d1fc-a829-4b7a-df9a-21dd9e79b460"
      },
      "source": [
        "cd drive/MyDrive/Sample_data/\n"
      ],
      "execution_count": null,
      "outputs": [
        {
          "output_type": "stream",
          "text": [
            "/content/drive/MyDrive/Sample_data\n"
          ],
          "name": "stdout"
        }
      ]
    },
    {
      "cell_type": "code",
      "metadata": {
        "colab": {
          "base_uri": "https://localhost:8080/"
        },
        "id": "NPoFsQBU0NGC",
        "outputId": "1d7b6e11-1fe7-4ee5-9feb-9a8b8ac546ed"
      },
      "source": [
        "ls"
      ],
      "execution_count": 31,
      "outputs": [
        {
          "output_type": "stream",
          "text": [
            "RanchPal_task.ipynb  sample-data.csv\n"
          ],
          "name": "stdout"
        }
      ]
    },
    {
      "cell_type": "code",
      "metadata": {
        "id": "nGoGlbGk0OLI"
      },
      "source": [
        "import numpy as np\n",
        "import pandas as pd\n",
        "from datetime import datetime\n"
      ],
      "execution_count": 32,
      "outputs": []
    },
    {
      "cell_type": "code",
      "metadata": {
        "id": "KH-mfAil0YEo"
      },
      "source": [
        "sd=pd.read_csv(\"sample-data.csv\")"
      ],
      "execution_count": 33,
      "outputs": []
    },
    {
      "cell_type": "code",
      "metadata": {
        "colab": {
          "base_uri": "https://localhost:8080/",
          "height": 195
        },
        "id": "dVkyJ2960c_G",
        "outputId": "6212f7be-b010-450e-d536-49124fb2310f"
      },
      "source": [
        "sd.head(5)"
      ],
      "execution_count": 34,
      "outputs": [
        {
          "output_type": "execute_result",
          "data": {
            "text/html": [
              "<div>\n",
              "<style scoped>\n",
              "    .dataframe tbody tr th:only-of-type {\n",
              "        vertical-align: middle;\n",
              "    }\n",
              "\n",
              "    .dataframe tbody tr th {\n",
              "        vertical-align: top;\n",
              "    }\n",
              "\n",
              "    .dataframe thead th {\n",
              "        text-align: right;\n",
              "    }\n",
              "</style>\n",
              "<table border=\"1\" class=\"dataframe\">\n",
              "  <thead>\n",
              "    <tr style=\"text-align: right;\">\n",
              "      <th></th>\n",
              "      <th>time</th>\n",
              "      <th>accX</th>\n",
              "      <th>accY</th>\n",
              "      <th>accZ</th>\n",
              "      <th>gyrX</th>\n",
              "      <th>gyrY</th>\n",
              "      <th>gyrZ</th>\n",
              "      <th>magX</th>\n",
              "      <th>magY</th>\n",
              "      <th>magZ</th>\n",
              "    </tr>\n",
              "  </thead>\n",
              "  <tbody>\n",
              "    <tr>\n",
              "      <th>0</th>\n",
              "      <td>1620022010</td>\n",
              "      <td>-5.509766</td>\n",
              "      <td>-2.220703</td>\n",
              "      <td>5.208984</td>\n",
              "      <td>3.417969</td>\n",
              "      <td>16.113281</td>\n",
              "      <td>-30.944824</td>\n",
              "      <td>-0.175195</td>\n",
              "      <td>0.006348</td>\n",
              "      <td>0.060303</td>\n",
              "    </tr>\n",
              "    <tr>\n",
              "      <th>1</th>\n",
              "      <td>1620022010</td>\n",
              "      <td>-5.533203</td>\n",
              "      <td>-2.210938</td>\n",
              "      <td>5.205078</td>\n",
              "      <td>-15.380859</td>\n",
              "      <td>22.277832</td>\n",
              "      <td>-27.893066</td>\n",
              "      <td>-0.175195</td>\n",
              "      <td>0.006348</td>\n",
              "      <td>0.060303</td>\n",
              "    </tr>\n",
              "    <tr>\n",
              "      <th>2</th>\n",
              "      <td>1620022010</td>\n",
              "      <td>-5.591797</td>\n",
              "      <td>-2.097656</td>\n",
              "      <td>5.251953</td>\n",
              "      <td>-28.564453</td>\n",
              "      <td>27.282715</td>\n",
              "      <td>-22.155762</td>\n",
              "      <td>-0.175195</td>\n",
              "      <td>0.006348</td>\n",
              "      <td>0.060303</td>\n",
              "    </tr>\n",
              "    <tr>\n",
              "      <th>3</th>\n",
              "      <td>1620022011</td>\n",
              "      <td>-5.517578</td>\n",
              "      <td>-2.107422</td>\n",
              "      <td>5.220703</td>\n",
              "      <td>-43.029785</td>\n",
              "      <td>37.841797</td>\n",
              "      <td>-6.103516</td>\n",
              "      <td>-0.175195</td>\n",
              "      <td>0.006348</td>\n",
              "      <td>0.060303</td>\n",
              "    </tr>\n",
              "    <tr>\n",
              "      <th>4</th>\n",
              "      <td>1620022011</td>\n",
              "      <td>-5.562500</td>\n",
              "      <td>-2.152344</td>\n",
              "      <td>5.306641</td>\n",
              "      <td>-57.617188</td>\n",
              "      <td>41.503906</td>\n",
              "      <td>12.451172</td>\n",
              "      <td>-0.175195</td>\n",
              "      <td>0.006348</td>\n",
              "      <td>0.060303</td>\n",
              "    </tr>\n",
              "  </tbody>\n",
              "</table>\n",
              "</div>"
            ],
            "text/plain": [
              "         time      accX      accY  ...      magX      magY      magZ\n",
              "0  1620022010 -5.509766 -2.220703  ... -0.175195  0.006348  0.060303\n",
              "1  1620022010 -5.533203 -2.210938  ... -0.175195  0.006348  0.060303\n",
              "2  1620022010 -5.591797 -2.097656  ... -0.175195  0.006348  0.060303\n",
              "3  1620022011 -5.517578 -2.107422  ... -0.175195  0.006348  0.060303\n",
              "4  1620022011 -5.562500 -2.152344  ... -0.175195  0.006348  0.060303\n",
              "\n",
              "[5 rows x 10 columns]"
            ]
          },
          "metadata": {
            "tags": []
          },
          "execution_count": 34
        }
      ]
    },
    {
      "cell_type": "code",
      "metadata": {
        "colab": {
          "base_uri": "https://localhost:8080/"
        },
        "id": "gfAeNOkZabnG",
        "outputId": "5e221656-b7f0-4ebe-a8df-36e55d6f8850"
      },
      "source": [
        "sd.info()"
      ],
      "execution_count": 35,
      "outputs": [
        {
          "output_type": "stream",
          "text": [
            "<class 'pandas.core.frame.DataFrame'>\n",
            "RangeIndex: 10455 entries, 0 to 10454\n",
            "Data columns (total 10 columns):\n",
            " #   Column  Non-Null Count  Dtype  \n",
            "---  ------  --------------  -----  \n",
            " 0   time    10455 non-null  int64  \n",
            " 1   accX    10455 non-null  float64\n",
            " 2   accY    10455 non-null  float64\n",
            " 3   accZ    10455 non-null  float64\n",
            " 4   gyrX    10455 non-null  float64\n",
            " 5   gyrY    10455 non-null  float64\n",
            " 6   gyrZ    10455 non-null  float64\n",
            " 7   magX    10455 non-null  float64\n",
            " 8   magY    10455 non-null  float64\n",
            " 9   magZ    10455 non-null  float64\n",
            "dtypes: float64(9), int64(1)\n",
            "memory usage: 816.9 KB\n"
          ],
          "name": "stdout"
        }
      ]
    },
    {
      "cell_type": "markdown",
      "metadata": {
        "id": "NQqQkcvG1U5A"
      },
      "source": [
        " Add a column in last which has converted time in local-time in Format YY/MM/DD HH:MM:SS from epoch time in column. bold text"
      ]
    },
    {
      "cell_type": "code",
      "metadata": {
        "id": "zuVtRDjc1Vzt"
      },
      "source": [
        "for i in sd['time']:\n",
        "  sd['converted_time'] =datetime.fromtimestamp(i)"
      ],
      "execution_count": 36,
      "outputs": []
    },
    {
      "cell_type": "code",
      "metadata": {
        "colab": {
          "base_uri": "https://localhost:8080/",
          "height": 106
        },
        "id": "9sP1jZPmEC6L",
        "outputId": "7625e337-9c16-4efd-990d-e18529c1e566"
      },
      "source": [
        "sd.head(2)"
      ],
      "execution_count": 37,
      "outputs": [
        {
          "output_type": "execute_result",
          "data": {
            "text/html": [
              "<div>\n",
              "<style scoped>\n",
              "    .dataframe tbody tr th:only-of-type {\n",
              "        vertical-align: middle;\n",
              "    }\n",
              "\n",
              "    .dataframe tbody tr th {\n",
              "        vertical-align: top;\n",
              "    }\n",
              "\n",
              "    .dataframe thead th {\n",
              "        text-align: right;\n",
              "    }\n",
              "</style>\n",
              "<table border=\"1\" class=\"dataframe\">\n",
              "  <thead>\n",
              "    <tr style=\"text-align: right;\">\n",
              "      <th></th>\n",
              "      <th>time</th>\n",
              "      <th>accX</th>\n",
              "      <th>accY</th>\n",
              "      <th>accZ</th>\n",
              "      <th>gyrX</th>\n",
              "      <th>gyrY</th>\n",
              "      <th>gyrZ</th>\n",
              "      <th>magX</th>\n",
              "      <th>magY</th>\n",
              "      <th>magZ</th>\n",
              "      <th>converted_time</th>\n",
              "    </tr>\n",
              "  </thead>\n",
              "  <tbody>\n",
              "    <tr>\n",
              "      <th>0</th>\n",
              "      <td>1620022010</td>\n",
              "      <td>-5.509766</td>\n",
              "      <td>-2.220703</td>\n",
              "      <td>5.208984</td>\n",
              "      <td>3.417969</td>\n",
              "      <td>16.113281</td>\n",
              "      <td>-30.944824</td>\n",
              "      <td>-0.175195</td>\n",
              "      <td>0.006348</td>\n",
              "      <td>0.060303</td>\n",
              "      <td>2021-05-03 06:09:49</td>\n",
              "    </tr>\n",
              "    <tr>\n",
              "      <th>1</th>\n",
              "      <td>1620022010</td>\n",
              "      <td>-5.533203</td>\n",
              "      <td>-2.210938</td>\n",
              "      <td>5.205078</td>\n",
              "      <td>-15.380859</td>\n",
              "      <td>22.277832</td>\n",
              "      <td>-27.893066</td>\n",
              "      <td>-0.175195</td>\n",
              "      <td>0.006348</td>\n",
              "      <td>0.060303</td>\n",
              "      <td>2021-05-03 06:09:49</td>\n",
              "    </tr>\n",
              "  </tbody>\n",
              "</table>\n",
              "</div>"
            ],
            "text/plain": [
              "         time      accX      accY  ...      magY      magZ      converted_time\n",
              "0  1620022010 -5.509766 -2.220703  ...  0.006348  0.060303 2021-05-03 06:09:49\n",
              "1  1620022010 -5.533203 -2.210938  ...  0.006348  0.060303 2021-05-03 06:09:49\n",
              "\n",
              "[2 rows x 11 columns]"
            ]
          },
          "metadata": {
            "tags": []
          },
          "execution_count": 37
        }
      ]
    },
    {
      "cell_type": "markdown",
      "metadata": {
        "id": "yTGzkuKBGHKF"
      },
      "source": [
        "Add a column in last which will add labels in specific cells in the column. It will ask at runtime to input cell numbers and Label to add in specific cell"
      ]
    },
    {
      "cell_type": "markdown",
      "metadata": {
        "id": "8VzGlBnPISWY"
      },
      "source": [
        "Create new column\n"
      ]
    },
    {
      "cell_type": "code",
      "metadata": {
        "id": "R2KEIIbQFTZu"
      },
      "source": [
        "sd['NewCol'] =np.nan\n"
      ],
      "execution_count": 38,
      "outputs": []
    },
    {
      "cell_type": "code",
      "metadata": {
        "id": "mSC51rK8IEiC"
      },
      "source": [
        "def create(label,first,end):\n",
        "    sd.loc[first:end,'NewCol']=label"
      ],
      "execution_count": 39,
      "outputs": []
    },
    {
      "cell_type": "code",
      "metadata": {
        "colab": {
          "base_uri": "https://localhost:8080/"
        },
        "id": "v7MvwX__7Kfu",
        "outputId": "fd1d4465-e8b7-45f0-f6f0-18706e05b06d"
      },
      "source": [
        "sd['NewCol'].isnull().sum()"
      ],
      "execution_count": 40,
      "outputs": [
        {
          "output_type": "execute_result",
          "data": {
            "text/plain": [
              "10455"
            ]
          },
          "metadata": {
            "tags": []
          },
          "execution_count": 40
        }
      ]
    },
    {
      "cell_type": "code",
      "metadata": {
        "colab": {
          "base_uri": "https://localhost:8080/"
        },
        "id": "IT6YpcDkCalj",
        "outputId": "120d580c-0fcb-4383-b4b9-a4dfcdfc3e77"
      },
      "source": [
        "while(sd['NewCol'].isnull().sum()!=0):\n",
        "    first=int(input(\"enter starting row number :\"))\n",
        "    if first<0 or first>10454:\n",
        "      print(\"enter correct number\")\n",
        "      break\n",
        "    end=int(input(\"enter ending row number :\"))\n",
        "    if end<1 or end>10455:\n",
        "      print(\"enter correct number\")\n",
        "      break\n",
        "    label=int(input(\"enter the label :\"))\n",
        "    if label<1 or label>9:\n",
        "      print(\"enter correct number\")\n",
        "      break\n",
        "create(label,first,end)\n",
        "      "
      ],
      "execution_count": 60,
      "outputs": [
        {
          "output_type": "stream",
          "text": [
            "enter starting row number :1\n",
            "enter ending row number :10000\n",
            "enter the label :1\n",
            "enter starting row number :10001\n",
            "enter ending row number :10455\n",
            "enter the label :2\n",
            "enter starting row number :10455\n",
            "enter correct number\n"
          ],
          "name": "stdout"
        }
      ]
    },
    {
      "cell_type": "code",
      "metadata": {
        "id": "5wMqvtCRJfNi",
        "colab": {
          "base_uri": "https://localhost:8080/",
          "height": 590
        },
        "outputId": "5b96c3ff-8095-48a1-e01a-01b5b6c8d48e"
      },
      "source": [
        "sd.tail(100)"
      ],
      "execution_count": 61,
      "outputs": [
        {
          "output_type": "execute_result",
          "data": {
            "text/html": [
              "<div>\n",
              "<style scoped>\n",
              "    .dataframe tbody tr th:only-of-type {\n",
              "        vertical-align: middle;\n",
              "    }\n",
              "\n",
              "    .dataframe tbody tr th {\n",
              "        vertical-align: top;\n",
              "    }\n",
              "\n",
              "    .dataframe thead th {\n",
              "        text-align: right;\n",
              "    }\n",
              "</style>\n",
              "<table border=\"1\" class=\"dataframe\">\n",
              "  <thead>\n",
              "    <tr style=\"text-align: right;\">\n",
              "      <th></th>\n",
              "      <th>time</th>\n",
              "      <th>accX</th>\n",
              "      <th>accY</th>\n",
              "      <th>accZ</th>\n",
              "      <th>gyrX</th>\n",
              "      <th>gyrY</th>\n",
              "      <th>gyrZ</th>\n",
              "      <th>magX</th>\n",
              "      <th>magY</th>\n",
              "      <th>magZ</th>\n",
              "      <th>converted_time</th>\n",
              "      <th>NewCol</th>\n",
              "    </tr>\n",
              "  </thead>\n",
              "  <tbody>\n",
              "    <tr>\n",
              "      <th>10355</th>\n",
              "      <td>1620022188</td>\n",
              "      <td>-6.357422</td>\n",
              "      <td>-1.771484</td>\n",
              "      <td>3.958984</td>\n",
              "      <td>-10.009766</td>\n",
              "      <td>14.099121</td>\n",
              "      <td>-2.807617</td>\n",
              "      <td>-0.175195</td>\n",
              "      <td>0.006348</td>\n",
              "      <td>0.060303</td>\n",
              "      <td>2021-05-03 06:09:49</td>\n",
              "      <td>2.0</td>\n",
              "    </tr>\n",
              "    <tr>\n",
              "      <th>10356</th>\n",
              "      <td>1620022188</td>\n",
              "      <td>-6.392578</td>\n",
              "      <td>-1.839844</td>\n",
              "      <td>4.052734</td>\n",
              "      <td>-9.155273</td>\n",
              "      <td>16.418457</td>\n",
              "      <td>-3.173828</td>\n",
              "      <td>-0.175195</td>\n",
              "      <td>0.006348</td>\n",
              "      <td>0.060303</td>\n",
              "      <td>2021-05-03 06:09:49</td>\n",
              "      <td>2.0</td>\n",
              "    </tr>\n",
              "    <tr>\n",
              "      <th>10357</th>\n",
              "      <td>1620022188</td>\n",
              "      <td>-6.388672</td>\n",
              "      <td>-1.792969</td>\n",
              "      <td>4.025391</td>\n",
              "      <td>-9.826660</td>\n",
              "      <td>14.282227</td>\n",
              "      <td>-3.356934</td>\n",
              "      <td>-0.175195</td>\n",
              "      <td>0.006348</td>\n",
              "      <td>0.060303</td>\n",
              "      <td>2021-05-03 06:09:49</td>\n",
              "      <td>2.0</td>\n",
              "    </tr>\n",
              "    <tr>\n",
              "      <th>10358</th>\n",
              "      <td>1620022188</td>\n",
              "      <td>-6.412109</td>\n",
              "      <td>-1.759766</td>\n",
              "      <td>3.968750</td>\n",
              "      <td>-9.704590</td>\n",
              "      <td>13.671875</td>\n",
              "      <td>-3.051758</td>\n",
              "      <td>-0.175195</td>\n",
              "      <td>0.006348</td>\n",
              "      <td>0.060303</td>\n",
              "      <td>2021-05-03 06:09:49</td>\n",
              "      <td>2.0</td>\n",
              "    </tr>\n",
              "    <tr>\n",
              "      <th>10359</th>\n",
              "      <td>1620022188</td>\n",
              "      <td>-6.367188</td>\n",
              "      <td>-1.777344</td>\n",
              "      <td>3.917969</td>\n",
              "      <td>-9.887695</td>\n",
              "      <td>13.732910</td>\n",
              "      <td>-0.244141</td>\n",
              "      <td>-0.175195</td>\n",
              "      <td>0.006348</td>\n",
              "      <td>0.060303</td>\n",
              "      <td>2021-05-03 06:09:49</td>\n",
              "      <td>2.0</td>\n",
              "    </tr>\n",
              "    <tr>\n",
              "      <th>...</th>\n",
              "      <td>...</td>\n",
              "      <td>...</td>\n",
              "      <td>...</td>\n",
              "      <td>...</td>\n",
              "      <td>...</td>\n",
              "      <td>...</td>\n",
              "      <td>...</td>\n",
              "      <td>...</td>\n",
              "      <td>...</td>\n",
              "      <td>...</td>\n",
              "      <td>...</td>\n",
              "      <td>...</td>\n",
              "    </tr>\n",
              "    <tr>\n",
              "      <th>10450</th>\n",
              "      <td>1620022189</td>\n",
              "      <td>-6.326172</td>\n",
              "      <td>-1.777344</td>\n",
              "      <td>3.976562</td>\n",
              "      <td>-8.483887</td>\n",
              "      <td>13.000488</td>\n",
              "      <td>-1.159668</td>\n",
              "      <td>-0.175195</td>\n",
              "      <td>0.006348</td>\n",
              "      <td>0.060303</td>\n",
              "      <td>2021-05-03 06:09:49</td>\n",
              "      <td>2.0</td>\n",
              "    </tr>\n",
              "    <tr>\n",
              "      <th>10451</th>\n",
              "      <td>1620022189</td>\n",
              "      <td>-6.398438</td>\n",
              "      <td>-1.783203</td>\n",
              "      <td>4.025391</td>\n",
              "      <td>-8.605957</td>\n",
              "      <td>12.207031</td>\n",
              "      <td>0.793457</td>\n",
              "      <td>-0.175195</td>\n",
              "      <td>0.006348</td>\n",
              "      <td>0.060303</td>\n",
              "      <td>2021-05-03 06:09:49</td>\n",
              "      <td>2.0</td>\n",
              "    </tr>\n",
              "    <tr>\n",
              "      <th>10452</th>\n",
              "      <td>1620022189</td>\n",
              "      <td>-6.392578</td>\n",
              "      <td>-1.792969</td>\n",
              "      <td>3.998047</td>\n",
              "      <td>-7.934570</td>\n",
              "      <td>12.756348</td>\n",
              "      <td>-0.549316</td>\n",
              "      <td>-0.175195</td>\n",
              "      <td>0.006348</td>\n",
              "      <td>0.060303</td>\n",
              "      <td>2021-05-03 06:09:49</td>\n",
              "      <td>2.0</td>\n",
              "    </tr>\n",
              "    <tr>\n",
              "      <th>10453</th>\n",
              "      <td>1620022189</td>\n",
              "      <td>-6.388672</td>\n",
              "      <td>-1.783203</td>\n",
              "      <td>4.052734</td>\n",
              "      <td>-9.033203</td>\n",
              "      <td>14.282227</td>\n",
              "      <td>1.281738</td>\n",
              "      <td>-0.175195</td>\n",
              "      <td>0.006348</td>\n",
              "      <td>0.060303</td>\n",
              "      <td>2021-05-03 06:09:49</td>\n",
              "      <td>2.0</td>\n",
              "    </tr>\n",
              "    <tr>\n",
              "      <th>10454</th>\n",
              "      <td>1620022189</td>\n",
              "      <td>-6.404297</td>\n",
              "      <td>-1.738281</td>\n",
              "      <td>4.013672</td>\n",
              "      <td>-7.080078</td>\n",
              "      <td>15.197754</td>\n",
              "      <td>-1.098633</td>\n",
              "      <td>-0.175195</td>\n",
              "      <td>0.006348</td>\n",
              "      <td>0.060303</td>\n",
              "      <td>2021-05-03 06:09:49</td>\n",
              "      <td>2.0</td>\n",
              "    </tr>\n",
              "  </tbody>\n",
              "</table>\n",
              "<p>100 rows × 12 columns</p>\n",
              "</div>"
            ],
            "text/plain": [
              "             time      accX      accY  ...      magZ      converted_time  NewCol\n",
              "10355  1620022188 -6.357422 -1.771484  ...  0.060303 2021-05-03 06:09:49     2.0\n",
              "10356  1620022188 -6.392578 -1.839844  ...  0.060303 2021-05-03 06:09:49     2.0\n",
              "10357  1620022188 -6.388672 -1.792969  ...  0.060303 2021-05-03 06:09:49     2.0\n",
              "10358  1620022188 -6.412109 -1.759766  ...  0.060303 2021-05-03 06:09:49     2.0\n",
              "10359  1620022188 -6.367188 -1.777344  ...  0.060303 2021-05-03 06:09:49     2.0\n",
              "...           ...       ...       ...  ...       ...                 ...     ...\n",
              "10450  1620022189 -6.326172 -1.777344  ...  0.060303 2021-05-03 06:09:49     2.0\n",
              "10451  1620022189 -6.398438 -1.783203  ...  0.060303 2021-05-03 06:09:49     2.0\n",
              "10452  1620022189 -6.392578 -1.792969  ...  0.060303 2021-05-03 06:09:49     2.0\n",
              "10453  1620022189 -6.388672 -1.783203  ...  0.060303 2021-05-03 06:09:49     2.0\n",
              "10454  1620022189 -6.404297 -1.738281  ...  0.060303 2021-05-03 06:09:49     2.0\n",
              "\n",
              "[100 rows x 12 columns]"
            ]
          },
          "metadata": {
            "tags": []
          },
          "execution_count": 61
        }
      ]
    },
    {
      "cell_type": "code",
      "metadata": {
        "id": "56iWxpcxLkWe"
      },
      "source": [
        ""
      ],
      "execution_count": 51,
      "outputs": []
    }
  ]
}